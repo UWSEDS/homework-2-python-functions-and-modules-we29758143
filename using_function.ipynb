{
 "cells": [
  {
   "cell_type": "code",
   "execution_count": 1,
   "metadata": {},
   "outputs": [],
   "source": [
    "import pandas as pd\n",
    "URL ='https://data.seattle.gov/api/views/2khk-5ukd/rows.csv?accessType=DOWNLOAD'"
   ]
  },
  {
   "cell_type": "code",
   "execution_count": 2,
   "metadata": {},
   "outputs": [],
   "source": [
    "#read data\n",
    "def read_data(url):\n",
    "    return pd.read_csv(url)"
   ]
  },
  {
   "cell_type": "code",
   "execution_count": 3,
   "metadata": {},
   "outputs": [],
   "source": [
    "#check three requirements\n",
    "def test_create_dataframe(df, colName):\n",
    "    isValid = True #initialize return\n",
    "    if list(df.columns) != colName: #check columns\n",
    "        isValid = False\n",
    "    if len(df) < 10: #check number of rows\n",
    "        isValid = False\n",
    "    for i in df.columns: #check value data type\n",
    "        for j in range(len(df)):\n",
    "            if type(df[i][j]) != type(df[i][0]):\n",
    "                isValid = False;\n",
    "                break\n",
    "    return isValid"
   ]
  },
  {
   "cell_type": "code",
   "execution_count": null,
   "metadata": {},
   "outputs": [],
   "source": []
  },
  {
   "cell_type": "code",
   "execution_count": null,
   "metadata": {},
   "outputs": [],
   "source": []
  }
 ],
 "metadata": {
  "kernelspec": {
   "display_name": "Python 3",
   "language": "python",
   "name": "python3"
  },
  "language_info": {
   "codemirror_mode": {
    "name": "ipython",
    "version": 3
   },
   "file_extension": ".py",
   "mimetype": "text/x-python",
   "name": "python",
   "nbconvert_exporter": "python",
   "pygments_lexer": "ipython3",
   "version": "3.6.8"
  }
 },
 "nbformat": 4,
 "nbformat_minor": 2
}
